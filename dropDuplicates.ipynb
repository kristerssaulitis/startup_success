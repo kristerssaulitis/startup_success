{
 "cells": [
  {
   "cell_type": "code",
   "execution_count": 2,
   "metadata": {},
   "outputs": [],
   "source": [
    "import pandas as pd\n",
    "import numpy as np"
   ]
  },
  {
   "cell_type": "code",
   "execution_count": 20,
   "metadata": {},
   "outputs": [],
   "source": [
    "companies = pd.read_csv('./merged/new_companies.csv')\n",
    "funds = pd.read_csv('./merged/new_funds_from_obj.csv')\n",
    "products = pd.read_csv('./merged/new_products.csv')\n",
    "\n",
    "relationships_people = pd.read_csv('./merged/new_relationships_people.csv')\n",
    "funding_rounds = pd.read_csv('./merged/new_funding_rounds.csv')\n",
    "acquisitions = pd.read_csv('./merged/new_acquisitions.csv')\n",
    "investments_funds = pd.read_csv('./merged/new_investments_funds.csv')\n",
    "ipos = pd.read_csv('./merged/new_ipos.csv')"
   ]
  },
  {
   "cell_type": "code",
   "execution_count": 21,
   "metadata": {},
   "outputs": [],
   "source": [
    "companies1000 = pd.read_csv('./merged/new_companies.csv', nrows=1000)\n",
    "funds1000 = pd.read_csv('./merged/new_funds_from_obj.csv', nrows=1000)\n",
    "products1000 = pd.read_csv('./merged/new_products.csv', nrows=1000)\n",
    "\n",
    "relationships_people1000 = pd.read_csv('./merged/new_relationships_people.csv', nrows=1000)\n",
    "funding_rounds1000 = pd.read_csv('./merged/new_funding_rounds.csv', nrows=1000)\n",
    "acquisitions1000 = pd.read_csv('./merged/new_acquisitions.csv', nrows=1000)\n",
    "investments_funds1000 = pd.read_csv('./merged/new_investments_funds.csv', nrows=1000)\n",
    "ipos1000 = pd.read_csv('./merged/new_ipos.csv', nrows=1000)\n",
    "\n",
    "\n",
    "companies1000.to_csv('./merged/companies1000.csv', index=False)\n",
    "funds1000.to_csv('./merged/funds1000.csv', index=False)\n",
    "products1000.to_csv('./merged/products1000.csv', index=False)\n",
    "relationships_people1000.to_csv('./merged/relationships_people1000.csv', index=False)\n",
    "funding_rounds1000.to_csv('./merged/funding_rounds1000.csv', index=False)\n",
    "acquisitions1000.to_csv('./merged/acquisitions1000.csv', index=False)\n",
    "investments_funds1000.to_csv('./merged/investments_funds1000.csv', index=False)\n",
    "ipos1000.to_csv('./merged/ipos1000.csv', index=False)"
   ]
  },
  {
   "cell_type": "markdown",
   "metadata": {},
   "source": [
    "people = depreciated\n",
    "offices = depreciated\n",
    "\n",
    "why - no meaningful data"
   ]
  },
  {
   "cell_type": "code",
   "execution_count": 23,
   "metadata": {},
   "outputs": [
    {
     "name": "stdout",
     "output_type": "stream",
     "text": [
      "(196553, 24) (11652, 24) (27738, 24) (565213, 14) (52928, 13) (9562, 7) (125969, 7) (1259, 7)\n"
     ]
    }
   ],
   "source": [
    "print(companies.shape,\n",
    "funds.shape,\n",
    "products.shape,\n",
    "relationships_people.shape,\n",
    "funding_rounds.shape,\n",
    "acquisitions.shape,\n",
    "investments_funds.shape,\n",
    "ipos.shape)"
   ]
  },
  {
   "cell_type": "code",
   "execution_count": 25,
   "metadata": {},
   "outputs": [
    {
     "name": "stdout",
     "output_type": "stream",
     "text": [
      "(196553, 24) (11652, 24) (27738, 24) (52928, 13) (9562, 7) (125573, 7) (1259, 7)\n"
     ]
    }
   ],
   "source": [
    "companies_cleaned = companies.drop_duplicates(keep='last')\n",
    "funds_cleaned = funds.drop_duplicates(keep='last')\n",
    "products_cleaned = products.drop_duplicates(keep='last')\n",
    "funding_rounds_cleaned = funding_rounds.drop_duplicates(keep='last')\n",
    "acquisitions_cleaned = acquisitions.drop_duplicates(keep='last')\n",
    "investments_funds_cleaned = investments_funds.drop_duplicates(keep='last')\n",
    "ipos_cleaned = ipos.drop_duplicates(keep='last')\n",
    "\n",
    "print(companies_cleaned.shape,\n",
    "funds_cleaned.shape,\n",
    "products_cleaned.shape,\n",
    "funding_rounds_cleaned.shape,\n",
    "acquisitions_cleaned.shape,\n",
    "investments_funds_cleaned.shape,\n",
    "ipos_cleaned.shape)\n"
   ]
  }
 ],
 "metadata": {
  "kernelspec": {
   "display_name": "Python 3",
   "language": "python",
   "name": "python3"
  },
  "language_info": {
   "codemirror_mode": {
    "name": "ipython",
    "version": 3
   },
   "file_extension": ".py",
   "mimetype": "text/x-python",
   "name": "python",
   "nbconvert_exporter": "python",
   "pygments_lexer": "ipython3",
   "version": "3.11.7"
  }
 },
 "nbformat": 4,
 "nbformat_minor": 2
}
